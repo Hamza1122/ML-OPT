{
  "nbformat": 4,
  "nbformat_minor": 0,
  "metadata": {
    "colab": {
      "name": "Untitled93.ipynb",
      "provenance": [],
      "mount_file_id": "14mmpGAYfr1TWAsjVzkYdkGc1vXjmq2q5",
      "authorship_tag": "ABX9TyPchJ8zo+n2zd/V3GnoMUA3",
      "include_colab_link": true
    },
    "kernelspec": {
      "name": "python3",
      "display_name": "Python 3"
    }
  },
  "cells": [
    {
      "cell_type": "markdown",
      "metadata": {
        "id": "view-in-github",
        "colab_type": "text"
      },
      "source": [
        "<a href=\"https://colab.research.google.com/github/Hamza1122/ML-OPT/blob/master/Untitled93.ipynb\" target=\"_parent\"><img src=\"https://colab.research.google.com/assets/colab-badge.svg\" alt=\"Open In Colab\"/></a>"
      ]
    },
    {
      "cell_type": "code",
      "metadata": {
        "id": "y3JCiHHn_dRP",
        "colab_type": "code",
        "colab": {
          "base_uri": "https://localhost:8080/",
          "height": 1000
        },
        "outputId": "f3ac874b-f06c-414f-e965-833a1c169745"
      },
      "source": [
        "!pip install optuna\n",
        "import pkg_resources\n",
        "import tensorflow as tf\n",
        "from tensorflow.keras.datasets import mnist\n",
        "import optuna\n"
      ],
      "execution_count": 1,
      "outputs": [
        {
          "output_type": "stream",
          "text": [
            "Collecting optuna\n",
            "\u001b[?25l  Downloading https://files.pythonhosted.org/packages/33/32/266d4afd269e3ecd7fcc595937c1733f65eae6c09c3caea74c0de0b88d78/optuna-1.5.0.tar.gz (200kB)\n",
            "\u001b[K     |████████████████████████████████| 204kB 2.8MB/s \n",
            "\u001b[?25hCollecting alembic\n",
            "\u001b[?25l  Downloading https://files.pythonhosted.org/packages/60/1e/cabc75a189de0fbb2841d0975243e59bde8b7822bacbb95008ac6fe9ad47/alembic-1.4.2.tar.gz (1.1MB)\n",
            "\u001b[K     |████████████████████████████████| 1.1MB 5.1MB/s \n",
            "\u001b[?25h  Installing build dependencies ... \u001b[?25l\u001b[?25hdone\n",
            "  Getting requirements to build wheel ... \u001b[?25l\u001b[?25hdone\n",
            "    Preparing wheel metadata ... \u001b[?25l\u001b[?25hdone\n",
            "Collecting cliff\n",
            "\u001b[?25l  Downloading https://files.pythonhosted.org/packages/52/59/4db149d8962dc29a37c8bc08cd79185935527af9a27259a2d80cac707212/cliff-3.3.0-py3-none-any.whl (81kB)\n",
            "\u001b[K     |████████████████████████████████| 81kB 5.9MB/s \n",
            "\u001b[?25hCollecting cmaes>=0.5.0\n",
            "  Downloading https://files.pythonhosted.org/packages/0e/7f/ebba8a7950487c760c245168f7ba318b35bf0cac9c0eba30b9fb50150a20/cmaes-0.5.1-py3-none-any.whl\n",
            "Collecting colorlog\n",
            "  Downloading https://files.pythonhosted.org/packages/00/0d/22c73c2eccb21dd3498df7d22c0b1d4a30f5a5fb3feb64e1ce06bc247747/colorlog-4.1.0-py2.py3-none-any.whl\n",
            "Requirement already satisfied: joblib in /usr/local/lib/python3.6/dist-packages (from optuna) (0.15.1)\n",
            "Requirement already satisfied: numpy in /usr/local/lib/python3.6/dist-packages (from optuna) (1.18.5)\n",
            "Requirement already satisfied: scipy!=1.4.0 in /usr/local/lib/python3.6/dist-packages (from optuna) (1.4.1)\n",
            "Requirement already satisfied: sqlalchemy>=1.1.0 in /usr/local/lib/python3.6/dist-packages (from optuna) (1.3.17)\n",
            "Requirement already satisfied: tqdm in /usr/local/lib/python3.6/dist-packages (from optuna) (4.41.1)\n",
            "Collecting python-editor>=0.3\n",
            "  Downloading https://files.pythonhosted.org/packages/c6/d3/201fc3abe391bbae6606e6f1d598c15d367033332bd54352b12f35513717/python_editor-1.0.4-py3-none-any.whl\n",
            "Collecting Mako\n",
            "\u001b[?25l  Downloading https://files.pythonhosted.org/packages/a6/37/0e706200d22172eb8fa17d68a7ae22dec7631a0a92266634fb518a88a5b2/Mako-1.1.3-py2.py3-none-any.whl (75kB)\n",
            "\u001b[K     |████████████████████████████████| 81kB 7.0MB/s \n",
            "\u001b[?25hRequirement already satisfied: python-dateutil in /usr/local/lib/python3.6/dist-packages (from alembic->optuna) (2.8.1)\n",
            "Collecting pbr!=2.1.0,>=2.0.0\n",
            "\u001b[?25l  Downloading https://files.pythonhosted.org/packages/96/ba/aa953a11ec014b23df057ecdbc922fdb40ca8463466b1193f3367d2711a6/pbr-5.4.5-py2.py3-none-any.whl (110kB)\n",
            "\u001b[K     |████████████████████████████████| 112kB 9.4MB/s \n",
            "\u001b[?25hRequirement already satisfied: PyYAML>=3.12 in /usr/local/lib/python3.6/dist-packages (from cliff->optuna) (3.13)\n",
            "Requirement already satisfied: six>=1.10.0 in /usr/local/lib/python3.6/dist-packages (from cliff->optuna) (1.12.0)\n",
            "Collecting cmd2!=0.8.3,>=0.8.0\n",
            "\u001b[?25l  Downloading https://files.pythonhosted.org/packages/1b/b2/440d8d89b432b250c8f4db4368301aa7c6b49ab48a87b42e2a36f60c104d/cmd2-1.1.0-py3-none-any.whl (120kB)\n",
            "\u001b[K     |████████████████████████████████| 122kB 9.4MB/s \n",
            "\u001b[?25hCollecting stevedore>=1.20.0\n",
            "  Downloading https://files.pythonhosted.org/packages/45/62/aa4c77e0f0899b7697445d8126fd099473452488d70f877426812c2ce982/stevedore-2.0.1-py3-none-any.whl\n",
            "Requirement already satisfied: pyparsing>=2.1.0 in /usr/local/lib/python3.6/dist-packages (from cliff->optuna) (2.4.7)\n",
            "Requirement already satisfied: PrettyTable<0.8,>=0.7.2 in /usr/local/lib/python3.6/dist-packages (from cliff->optuna) (0.7.2)\n",
            "Requirement already satisfied: MarkupSafe>=0.9.2 in /usr/local/lib/python3.6/dist-packages (from Mako->alembic->optuna) (1.1.1)\n",
            "Requirement already satisfied: setuptools>=34.4 in /usr/local/lib/python3.6/dist-packages (from cmd2!=0.8.3,>=0.8.0->cliff->optuna) (47.3.1)\n",
            "Collecting pyperclip>=1.6\n",
            "  Downloading https://files.pythonhosted.org/packages/f6/5b/55866e1cde0f86f5eec59dab5de8a66628cb0d53da74b8dbc15ad8dabda3/pyperclip-1.8.0.tar.gz\n",
            "Collecting colorama>=0.3.7\n",
            "  Downloading https://files.pythonhosted.org/packages/c9/dc/45cdef1b4d119eb96316b3117e6d5708a08029992b2fee2c143c7a0a5cc5/colorama-0.4.3-py2.py3-none-any.whl\n",
            "Requirement already satisfied: attrs>=16.3.0 in /usr/local/lib/python3.6/dist-packages (from cmd2!=0.8.3,>=0.8.0->cliff->optuna) (19.3.0)\n",
            "Requirement already satisfied: wcwidth>=0.1.7 in /usr/local/lib/python3.6/dist-packages (from cmd2!=0.8.3,>=0.8.0->cliff->optuna) (0.2.5)\n",
            "Building wheels for collected packages: alembic\n",
            "  Building wheel for alembic (PEP 517) ... \u001b[?25l\u001b[?25hdone\n",
            "  Created wheel for alembic: filename=alembic-1.4.2-cp36-none-any.whl size=159543 sha256=43e7f17c1ee12caf51ba11b9377426a4e2714d1e03ba024c667dd1714c683f59\n",
            "  Stored in directory: /root/.cache/pip/wheels/1f/04/83/76023f7a4c14688c0b5c2682a96392cfdd3ee4449eaaa287ef\n",
            "Successfully built alembic\n",
            "Building wheels for collected packages: optuna, pyperclip\n",
            "  Building wheel for optuna (setup.py) ... \u001b[?25l\u001b[?25hdone\n",
            "  Created wheel for optuna: filename=optuna-1.5.0-cp36-none-any.whl size=276145 sha256=5c08851826a425cd9349e8eff5f07c3be348ed89a30de9595cd59419d2c582c9\n",
            "  Stored in directory: /root/.cache/pip/wheels/38/21/78/4f5529e0c757ababc4217eb9adf1886d21eb22bb1ab98c33c5\n",
            "  Building wheel for pyperclip (setup.py) ... \u001b[?25l\u001b[?25hdone\n",
            "  Created wheel for pyperclip: filename=pyperclip-1.8.0-cp36-none-any.whl size=8693 sha256=d1e5d772a7c0b2d6427217b189310f2e791dd8acefd0ee63205bc553b5c8b037\n",
            "  Stored in directory: /root/.cache/pip/wheels/b2/ac/0a/b784f0afe26eaf52e88a7e15c7369090deea0354fa1c6fc689\n",
            "Successfully built optuna pyperclip\n",
            "Installing collected packages: python-editor, Mako, alembic, pbr, pyperclip, colorama, cmd2, stevedore, cliff, cmaes, colorlog, optuna\n",
            "Successfully installed Mako-1.1.3 alembic-1.4.2 cliff-3.3.0 cmaes-0.5.1 cmd2-1.1.0 colorama-0.4.3 colorlog-4.1.0 optuna-1.5.0 pbr-5.4.5 pyperclip-1.8.0 python-editor-1.0.4 stevedore-2.0.1\n"
          ],
          "name": "stdout"
        }
      ]
    },
    {
      "cell_type": "code",
      "metadata": {
        "id": "YYtewBxVTKYh",
        "colab_type": "code",
        "colab": {}
      },
      "source": [
        "#cd drive/My Drive"
      ],
      "execution_count": 4,
      "outputs": []
    },
    {
      "cell_type": "code",
      "metadata": {
        "id": "DIV51lDqlUdR",
        "colab_type": "code",
        "colab": {
          "base_uri": "https://localhost:8080/",
          "height": 235
        },
        "outputId": "269fe4d4-6ba6-4604-df47-1d31e36be942"
      },
      "source": [
        "\n",
        "import pandas as pd\n",
        "df=pd.read_csv('A054392_r17.csv')\n",
        "df.head(100)\n",
        "print(df.isnull().sum())"
      ],
      "execution_count": 5,
      "outputs": [
        {
          "output_type": "stream",
          "text": [
            "delta_t     0\n",
            "A10_1_20    0\n",
            "A11_1_6     0\n",
            "A12_1_2     0\n",
            "A13_1_4     0\n",
            "           ..\n",
            "sp_col_c    0\n",
            "sp_lat_c    0\n",
            "sp_lon_c    0\n",
            "sp_ped_c    0\n",
            "tt          0\n",
            "Length: 344, dtype: int64\n"
          ],
          "name": "stdout"
        }
      ]
    },
    {
      "cell_type": "code",
      "metadata": {
        "id": "ot-xuFCsoiTt",
        "colab_type": "code",
        "colab": {}
      },
      "source": [
        "body_axis_velocities=df[['TAS','ALPHA','BETA']]\n",
        "body_axis_rates=df[['P_Hny','Q_Hny','R_Hny']]\n",
        "body_axis_attitudes=df[['Theta_Hny','Phi_Hny','Psi_Hny']]\n",
        "body_axis_accelerations=df[['AX_Hny','AY_Hny','AZ_Hny']]\n",
        "\n",
        "input_vector=df[['sp_lon_c','sp_lat_c','sp_ped_c','sp_col_c','RotorRPM']]\n"
      ],
      "execution_count": 6,
      "outputs": []
    },
    {
      "cell_type": "code",
      "metadata": {
        "id": "36FquqNPpPyY",
        "colab_type": "code",
        "colab": {
          "base_uri": "https://localhost:8080/",
          "height": 407
        },
        "outputId": "1d338d17-42b7-4e39-8ea3-4d1bc08ddeaa"
      },
      "source": [
        "df=body_axis_velocities.add(body_axis_rates, fill_value=0)\n",
        "df1=body_axis_attitudes.add(body_axis_accelerations, fill_value=0)\n",
        "output=df1.add(df,fill_value=0)\n",
        "output"
      ],
      "execution_count": 7,
      "outputs": [
        {
          "output_type": "execute_result",
          "data": {
            "text/html": [
              "<div>\n",
              "<style scoped>\n",
              "    .dataframe tbody tr th:only-of-type {\n",
              "        vertical-align: middle;\n",
              "    }\n",
              "\n",
              "    .dataframe tbody tr th {\n",
              "        vertical-align: top;\n",
              "    }\n",
              "\n",
              "    .dataframe thead th {\n",
              "        text-align: right;\n",
              "    }\n",
              "</style>\n",
              "<table border=\"1\" class=\"dataframe\">\n",
              "  <thead>\n",
              "    <tr style=\"text-align: right;\">\n",
              "      <th></th>\n",
              "      <th>ALPHA</th>\n",
              "      <th>AX_Hny</th>\n",
              "      <th>AY_Hny</th>\n",
              "      <th>AZ_Hny</th>\n",
              "      <th>BETA</th>\n",
              "      <th>P_Hny</th>\n",
              "      <th>Phi_Hny</th>\n",
              "      <th>Psi_Hny</th>\n",
              "      <th>Q_Hny</th>\n",
              "      <th>R_Hny</th>\n",
              "      <th>TAS</th>\n",
              "      <th>Theta_Hny</th>\n",
              "    </tr>\n",
              "  </thead>\n",
              "  <tbody>\n",
              "    <tr>\n",
              "      <th>0</th>\n",
              "      <td>-5.120883</td>\n",
              "      <td>3.014990</td>\n",
              "      <td>1.056759</td>\n",
              "      <td>-33.616711</td>\n",
              "      <td>-0.338440</td>\n",
              "      <td>0.747904</td>\n",
              "      <td>0.900026</td>\n",
              "      <td>173.679840</td>\n",
              "      <td>-0.422733</td>\n",
              "      <td>-0.582445</td>\n",
              "      <td>36.830688</td>\n",
              "      <td>6.284996</td>\n",
              "    </tr>\n",
              "    <tr>\n",
              "      <th>1</th>\n",
              "      <td>-5.158884</td>\n",
              "      <td>3.069830</td>\n",
              "      <td>1.469120</td>\n",
              "      <td>-31.048903</td>\n",
              "      <td>-0.338440</td>\n",
              "      <td>0.634371</td>\n",
              "      <td>0.905016</td>\n",
              "      <td>173.673859</td>\n",
              "      <td>-0.322165</td>\n",
              "      <td>-0.572638</td>\n",
              "      <td>36.830688</td>\n",
              "      <td>6.281233</td>\n",
              "    </tr>\n",
              "    <tr>\n",
              "      <th>2</th>\n",
              "      <td>-5.120883</td>\n",
              "      <td>3.468377</td>\n",
              "      <td>-0.488360</td>\n",
              "      <td>-30.861061</td>\n",
              "      <td>-0.372078</td>\n",
              "      <td>0.789833</td>\n",
              "      <td>0.908495</td>\n",
              "      <td>173.670364</td>\n",
              "      <td>-0.399412</td>\n",
              "      <td>-0.496004</td>\n",
              "      <td>36.830688</td>\n",
              "      <td>6.278815</td>\n",
              "    </tr>\n",
              "    <tr>\n",
              "      <th>3</th>\n",
              "      <td>-5.120883</td>\n",
              "      <td>1.849214</td>\n",
              "      <td>-0.785813</td>\n",
              "      <td>-31.183453</td>\n",
              "      <td>-0.372078</td>\n",
              "      <td>1.097247</td>\n",
              "      <td>0.917610</td>\n",
              "      <td>173.665375</td>\n",
              "      <td>-0.669670</td>\n",
              "      <td>-0.462326</td>\n",
              "      <td>36.319710</td>\n",
              "      <td>6.272985</td>\n",
              "    </tr>\n",
              "    <tr>\n",
              "      <th>4</th>\n",
              "      <td>-5.120883</td>\n",
              "      <td>2.868605</td>\n",
              "      <td>-0.507335</td>\n",
              "      <td>-30.663681</td>\n",
              "      <td>-0.405719</td>\n",
              "      <td>0.768346</td>\n",
              "      <td>0.923212</td>\n",
              "      <td>173.662323</td>\n",
              "      <td>-0.637635</td>\n",
              "      <td>-0.442487</td>\n",
              "      <td>36.319710</td>\n",
              "      <td>6.268694</td>\n",
              "    </tr>\n",
              "    <tr>\n",
              "      <th>...</th>\n",
              "      <td>...</td>\n",
              "      <td>...</td>\n",
              "      <td>...</td>\n",
              "      <td>...</td>\n",
              "      <td>...</td>\n",
              "      <td>...</td>\n",
              "      <td>...</td>\n",
              "      <td>...</td>\n",
              "      <td>...</td>\n",
              "      <td>...</td>\n",
              "      <td>...</td>\n",
              "      <td>...</td>\n",
              "    </tr>\n",
              "    <tr>\n",
              "      <th>22551</th>\n",
              "      <td>2.516758</td>\n",
              "      <td>-0.558027</td>\n",
              "      <td>-2.937015</td>\n",
              "      <td>-27.824139</td>\n",
              "      <td>5.514696</td>\n",
              "      <td>0.466876</td>\n",
              "      <td>0.439490</td>\n",
              "      <td>-147.027237</td>\n",
              "      <td>0.976198</td>\n",
              "      <td>-1.066495</td>\n",
              "      <td>42.269234</td>\n",
              "      <td>5.061101</td>\n",
              "    </tr>\n",
              "    <tr>\n",
              "      <th>22552</th>\n",
              "      <td>2.516758</td>\n",
              "      <td>-0.887987</td>\n",
              "      <td>-2.529094</td>\n",
              "      <td>-33.921913</td>\n",
              "      <td>5.548336</td>\n",
              "      <td>0.360222</td>\n",
              "      <td>0.442218</td>\n",
              "      <td>-147.034042</td>\n",
              "      <td>0.609229</td>\n",
              "      <td>-1.027786</td>\n",
              "      <td>42.269234</td>\n",
              "      <td>5.066177</td>\n",
              "    </tr>\n",
              "    <tr>\n",
              "      <th>22553</th>\n",
              "      <td>2.402763</td>\n",
              "      <td>3.388960</td>\n",
              "      <td>-1.461303</td>\n",
              "      <td>-39.393398</td>\n",
              "      <td>5.581975</td>\n",
              "      <td>0.636640</td>\n",
              "      <td>0.444827</td>\n",
              "      <td>-147.041306</td>\n",
              "      <td>0.549528</td>\n",
              "      <td>-1.131543</td>\n",
              "      <td>42.269234</td>\n",
              "      <td>5.069346</td>\n",
              "    </tr>\n",
              "    <tr>\n",
              "      <th>22554</th>\n",
              "      <td>2.326769</td>\n",
              "      <td>3.090870</td>\n",
              "      <td>-1.322871</td>\n",
              "      <td>-36.611217</td>\n",
              "      <td>5.581975</td>\n",
              "      <td>0.808830</td>\n",
              "      <td>0.448946</td>\n",
              "      <td>-147.048645</td>\n",
              "      <td>0.654048</td>\n",
              "      <td>-1.082893</td>\n",
              "      <td>43.668594</td>\n",
              "      <td>5.073189</td>\n",
              "    </tr>\n",
              "    <tr>\n",
              "      <th>22555</th>\n",
              "      <td>2.288772</td>\n",
              "      <td>5.040869</td>\n",
              "      <td>1.919849</td>\n",
              "      <td>-27.411064</td>\n",
              "      <td>5.548336</td>\n",
              "      <td>0.490880</td>\n",
              "      <td>0.454303</td>\n",
              "      <td>-147.059433</td>\n",
              "      <td>1.036615</td>\n",
              "      <td>-1.111971</td>\n",
              "      <td>43.665073</td>\n",
              "      <td>5.081440</td>\n",
              "    </tr>\n",
              "  </tbody>\n",
              "</table>\n",
              "<p>22556 rows × 12 columns</p>\n",
              "</div>"
            ],
            "text/plain": [
              "          ALPHA    AX_Hny    AY_Hny  ...     R_Hny        TAS  Theta_Hny\n",
              "0     -5.120883  3.014990  1.056759  ... -0.582445  36.830688   6.284996\n",
              "1     -5.158884  3.069830  1.469120  ... -0.572638  36.830688   6.281233\n",
              "2     -5.120883  3.468377 -0.488360  ... -0.496004  36.830688   6.278815\n",
              "3     -5.120883  1.849214 -0.785813  ... -0.462326  36.319710   6.272985\n",
              "4     -5.120883  2.868605 -0.507335  ... -0.442487  36.319710   6.268694\n",
              "...         ...       ...       ...  ...       ...        ...        ...\n",
              "22551  2.516758 -0.558027 -2.937015  ... -1.066495  42.269234   5.061101\n",
              "22552  2.516758 -0.887987 -2.529094  ... -1.027786  42.269234   5.066177\n",
              "22553  2.402763  3.388960 -1.461303  ... -1.131543  42.269234   5.069346\n",
              "22554  2.326769  3.090870 -1.322871  ... -1.082893  43.668594   5.073189\n",
              "22555  2.288772  5.040869  1.919849  ... -1.111971  43.665073   5.081440\n",
              "\n",
              "[22556 rows x 12 columns]"
            ]
          },
          "metadata": {
            "tags": []
          },
          "execution_count": 7
        }
      ]
    },
    {
      "cell_type": "code",
      "metadata": {
        "id": "TH1jnUeNp3wR",
        "colab_type": "code",
        "colab": {
          "base_uri": "https://localhost:8080/",
          "height": 35
        },
        "outputId": "1d71b45f-827d-4d45-edae-5c1d49c920dc"
      },
      "source": [
        "from sklearn.model_selection import train_test_split\n",
        "X=input_vector\n",
        "Y=output\n",
        "#X=df1.drop(['Vpvx'],axis=1)\n",
        "\n",
        "X.shape "
      ],
      "execution_count": 8,
      "outputs": [
        {
          "output_type": "execute_result",
          "data": {
            "text/plain": [
              "(22556, 5)"
            ]
          },
          "metadata": {
            "tags": []
          },
          "execution_count": 8
        }
      ]
    },
    {
      "cell_type": "code",
      "metadata": {
        "id": "4wNa8fBSw_pZ",
        "colab_type": "code",
        "colab": {}
      },
      "source": [
        "x_train, x_valid, y_train, y_valid = train_test_split(X, Y, test_size=0.33, random_state=42)"
      ],
      "execution_count": 9,
      "outputs": []
    },
    {
      "cell_type": "code",
      "metadata": {
        "id": "omRwEgF3_iki",
        "colab_type": "code",
        "colab": {}
      },
      "source": [
        "if pkg_resources.parse_version(tf.__version__) < pkg_resources.parse_version(\"2.0.0\"):\n",
        "    raise RuntimeError(\"tensorflow>=2.0.0 is required for this example.\")"
      ],
      "execution_count": 10,
      "outputs": []
    },
    {
      "cell_type": "code",
      "metadata": {
        "id": "ThBaIR3D_-UJ",
        "colab_type": "code",
        "colab": {}
      },
      "source": [
        "N_TRAIN_EXAMPLES = 15000\n",
        "N_VALID_EXAMPLES = 7566\n",
        "BATCHSIZE = 128\n",
        "CLASSES = 1\n",
        "EPOCHS = 1\n"
      ],
      "execution_count": 11,
      "outputs": []
    },
    {
      "cell_type": "code",
      "metadata": {
        "id": "-BoGUXC7y5Ey",
        "colab_type": "code",
        "colab": {
          "base_uri": "https://localhost:8080/",
          "height": 874
        },
        "outputId": "fb2b2fb6-c55a-45b0-9d26-b78e02c8d638"
      },
      "source": [
        "import optuna\n",
        "from sklearn.model_selection import train_test_split\n",
        "from sklearn.metrics import mean_squared_error\n",
        "from math import sqrt\n",
        "\n",
        "# Keras specific\n",
        "import keras\n",
        "from keras.models import Sequential\n",
        "from keras.layers import Dense\n",
        "from keras.utils import to_categorical \n",
        "\n",
        "def objective(trial):\n",
        "    x = trial.suggest_uniform('x',10,100)\n",
        "    adam_learning_rate=trial.suggest_loguniform(\"adam_learning_rate\", 1e-5, 1e-1)\n",
        "    opt = keras.optimizers.Adam(adam_learning_rate)\n",
        "    hidden1 = trial.suggest_int(\"neuron_firstlayer\",100,500)\n",
        "    hidden2 = trial.suggest_int(\"neuron_secondlayer\",50,100)\n",
        "    hidden3 = trial.suggest_int(\"neuron_thirdlayer\",30,90)\n",
        "    \n",
        "    model = Sequential()\n",
        "    model.add(Dense(hidden1, activation='relu', input_dim=5))\n",
        "    model.add(Dense(hidden2, activation='relu'))  \n",
        "    model.add(Dense(hidden3, activation='relu'))\n",
        "    model.add(Dense(12, activation='linear'))\n",
        "\n",
        "# Compile the model\n",
        "    model.compile(optimizer=opt, \n",
        "              loss='mse', \n",
        "              metrics=['mse'])\n",
        "    model.fit(\n",
        "        x_train,\n",
        "        y_train,\n",
        "        validation_data=(x_valid, y_valid),\n",
        "        shuffle=True,\n",
        "        batch_size=12,\n",
        "        epochs=2,\n",
        "        verbose=False,\n",
        "    )\n",
        "    score = model.evaluate(x_valid, y_valid, verbose=0)\n",
        "    return score[1]\n",
        "\n",
        "study = optuna.create_study()\n",
        "study.optimize(objective, n_trials=100)\n",
        "\n",
        "study.best_params  # E.g. {'x': 2.002108042}"
      ],
      "execution_count": null,
      "outputs": [
        {
          "output_type": "stream",
          "text": [
            "[I 2020-07-09 07:01:56,775] Finished trial#0 with value: 1452.1075439453125 with parameters: {'x': 86.78673083315309, 'adam_learning_rate': 0.000123790757755197, 'neuron_firstlayer': 398, 'neuron_secondlayer': 62, 'neuron_thirdlayer': 54}. Best is trial#0 with value: 1452.1075439453125.\n",
            "[I 2020-07-09 07:02:01,456] Finished trial#1 with value: 1457.1871337890625 with parameters: {'x': 33.531368184750896, 'adam_learning_rate': 0.0009787577552264235, 'neuron_firstlayer': 145, 'neuron_secondlayer': 83, 'neuron_thirdlayer': 43}. Best is trial#0 with value: 1452.1075439453125.\n",
            "[I 2020-07-09 07:02:06,392] Finished trial#2 with value: 1440.8626708984375 with parameters: {'x': 77.7097935745023, 'adam_learning_rate': 0.0032884970057199966, 'neuron_firstlayer': 258, 'neuron_secondlayer': 90, 'neuron_thirdlayer': 69}. Best is trial#2 with value: 1440.8626708984375.\n",
            "[I 2020-07-09 07:02:11,663] Finished trial#3 with value: 1450.1287841796875 with parameters: {'x': 22.86948478051871, 'adam_learning_rate': 3.4449234199849206e-05, 'neuron_firstlayer': 429, 'neuron_secondlayer': 92, 'neuron_thirdlayer': 33}. Best is trial#2 with value: 1440.8626708984375.\n",
            "[I 2020-07-09 07:02:16,499] Finished trial#4 with value: 1445.8541259765625 with parameters: {'x': 86.7929991985044, 'adam_learning_rate': 0.0016053464638346397, 'neuron_firstlayer': 154, 'neuron_secondlayer': 75, 'neuron_thirdlayer': 68}. Best is trial#2 with value: 1440.8626708984375.\n",
            "[I 2020-07-09 07:02:21,117] Finished trial#5 with value: 1452.0189208984375 with parameters: {'x': 37.699740612223216, 'adam_learning_rate': 0.00022764282123254257, 'neuron_firstlayer': 118, 'neuron_secondlayer': 79, 'neuron_thirdlayer': 68}. Best is trial#2 with value: 1440.8626708984375.\n",
            "[I 2020-07-09 07:02:26,099] Finished trial#6 with value: 1469.1890869140625 with parameters: {'x': 71.62591422909554, 'adam_learning_rate': 1.5075716243146207e-05, 'neuron_firstlayer': 292, 'neuron_secondlayer': 70, 'neuron_thirdlayer': 37}. Best is trial#2 with value: 1440.8626708984375.\n",
            "[I 2020-07-09 07:02:31,065] Finished trial#7 with value: 1453.909912109375 with parameters: {'x': 53.99244165291882, 'adam_learning_rate': 0.0664860027059623, 'neuron_firstlayer': 241, 'neuron_secondlayer': 94, 'neuron_thirdlayer': 81}. Best is trial#2 with value: 1440.8626708984375.\n",
            "[I 2020-07-09 07:02:36,355] Finished trial#8 with value: 1448.88720703125 with parameters: {'x': 19.966290979642963, 'adam_learning_rate': 0.0003346913633291253, 'neuron_firstlayer': 491, 'neuron_secondlayer': 74, 'neuron_thirdlayer': 62}. Best is trial#2 with value: 1440.8626708984375.\n",
            "[I 2020-07-09 07:02:41,230] Finished trial#9 with value: 1489.8623046875 with parameters: {'x': 60.12962791340616, 'adam_learning_rate': 0.04314651510474746, 'neuron_firstlayer': 205, 'neuron_secondlayer': 53, 'neuron_thirdlayer': 83}. Best is trial#2 with value: 1440.8626708984375.\n",
            "[I 2020-07-09 07:02:46,453] Finished trial#10 with value: 1446.395751953125 with parameters: {'x': 99.6974624461245, 'adam_learning_rate': 0.00802456190269426, 'neuron_firstlayer': 338, 'neuron_secondlayer': 88, 'neuron_thirdlayer': 89}. Best is trial#2 with value: 1440.8626708984375.\n",
            "[I 2020-07-09 07:02:51,333] Finished trial#11 with value: 1449.5999755859375 with parameters: {'x': 88.00960019742057, 'adam_learning_rate': 0.005968522003696414, 'neuron_firstlayer': 187, 'neuron_secondlayer': 100, 'neuron_thirdlayer': 72}. Best is trial#2 with value: 1440.8626708984375.\n",
            "[I 2020-07-09 07:02:56,198] Finished trial#12 with value: 1436.761962890625 with parameters: {'x': 79.7086784001614, 'adam_learning_rate': 0.0035557537161103633, 'neuron_firstlayer': 284, 'neuron_secondlayer': 66, 'neuron_thirdlayer': 55}. Best is trial#12 with value: 1436.761962890625.\n",
            "[I 2020-07-09 07:03:01,067] Finished trial#13 with value: 1450.1033935546875 with parameters: {'x': 68.82104110584092, 'adam_learning_rate': 0.011480615700893088, 'neuron_firstlayer': 285, 'neuron_secondlayer': 63, 'neuron_thirdlayer': 51}. Best is trial#12 with value: 1436.761962890625.\n",
            "[I 2020-07-09 07:03:05,951] Finished trial#14 with value: 1441.8057861328125 with parameters: {'x': 75.62302554221431, 'adam_learning_rate': 0.0022308165382846023, 'neuron_firstlayer': 349, 'neuron_secondlayer': 64, 'neuron_thirdlayer': 56}. Best is trial#12 with value: 1436.761962890625.\n",
            "[I 2020-07-09 07:03:10,749] Finished trial#15 with value: 1433.9736328125 with parameters: {'x': 98.14800718225698, 'adam_learning_rate': 0.02623597136416646, 'neuron_firstlayer': 252, 'neuron_secondlayer': 50, 'neuron_thirdlayer': 75}. Best is trial#15 with value: 1433.9736328125.\n",
            "[I 2020-07-09 07:03:15,761] Finished trial#16 with value: 1466.2230224609375 with parameters: {'x': 97.53136851915978, 'adam_learning_rate': 0.023427116224156556, 'neuron_firstlayer': 334, 'neuron_secondlayer': 52, 'neuron_thirdlayer': 77}. Best is trial#15 with value: 1433.9736328125.\n",
            "[I 2020-07-09 07:03:20,582] Finished trial#17 with value: 1463.1634521484375 with parameters: {'x': 96.69895551905253, 'adam_learning_rate': 0.027753200267402918, 'neuron_firstlayer': 236, 'neuron_secondlayer': 57, 'neuron_thirdlayer': 45}. Best is trial#15 with value: 1433.9736328125.\n",
            "[I 2020-07-09 07:03:25,748] Finished trial#18 with value: 1474.3865966796875 with parameters: {'x': 48.74517920644267, 'adam_learning_rate': 0.014851270038027067, 'neuron_firstlayer': 378, 'neuron_secondlayer': 68, 'neuron_thirdlayer': 90}. Best is trial#15 with value: 1433.9736328125.\n",
            "[I 2020-07-09 07:03:30,528] Finished trial#19 with value: 1453.128662109375 with parameters: {'x': 89.99094971810196, 'adam_learning_rate': 0.07326804854222367, 'neuron_firstlayer': 305, 'neuron_secondlayer': 50, 'neuron_thirdlayer': 61}. Best is trial#15 with value: 1433.9736328125.\n",
            "[I 2020-07-09 07:03:35,207] Finished trial#20 with value: 1449.7515869140625 with parameters: {'x': 62.95097241792462, 'adam_learning_rate': 0.0009388186684693072, 'neuron_firstlayer': 194, 'neuron_secondlayer': 57, 'neuron_thirdlayer': 48}. Best is trial#15 with value: 1433.9736328125.\n",
            "[I 2020-07-09 07:03:40,163] Finished trial#21 with value: 1474.3306884765625 with parameters: {'x': 78.10331093546911, 'adam_learning_rate': 0.003631885530098667, 'neuron_firstlayer': 250, 'neuron_secondlayer': 84, 'neuron_thirdlayer': 74}. Best is trial#15 with value: 1433.9736328125.\n",
            "[I 2020-07-09 07:03:45,259] Finished trial#22 with value: 1452.7464599609375 with parameters: {'x': 79.17247200020742, 'adam_learning_rate': 0.003573556724000916, 'neuron_firstlayer': 267, 'neuron_secondlayer': 99, 'neuron_thirdlayer': 64}. Best is trial#15 with value: 1433.9736328125.\n",
            "[I 2020-07-09 07:03:50,019] Finished trial#23 with value: 1448.6588134765625 with parameters: {'x': 82.1351373649824, 'adam_learning_rate': 0.000499633794759953, 'neuron_firstlayer': 217, 'neuron_secondlayer': 58, 'neuron_thirdlayer': 69}. Best is trial#15 with value: 1433.9736328125.\n",
            "[I 2020-07-09 07:03:55,126] Finished trial#24 with value: 1445.708251953125 with parameters: {'x': 94.62861340470054, 'adam_learning_rate': 0.005306133956364437, 'neuron_firstlayer': 310, 'neuron_secondlayer': 78, 'neuron_thirdlayer': 57}. Best is trial#15 with value: 1433.9736328125.\n",
            "[I 2020-07-09 07:04:00,095] Finished trial#25 with value: 1447.1885986328125 with parameters: {'x': 67.57889940446726, 'adam_learning_rate': 0.016538401379155986, 'neuron_firstlayer': 275, 'neuron_secondlayer': 69, 'neuron_thirdlayer': 79}. Best is trial#15 with value: 1433.9736328125.\n",
            "[I 2020-07-09 07:04:04,960] Finished trial#26 with value: 1464.703125 with parameters: {'x': 92.4054629744568, 'adam_learning_rate': 0.0018087325184589006, 'neuron_firstlayer': 168, 'neuron_secondlayer': 93, 'neuron_thirdlayer': 85}. Best is trial#15 with value: 1433.9736328125.\n",
            "[I 2020-07-09 07:04:09,931] Finished trial#27 with value: 1455.581787109375 with parameters: {'x': 80.88112610393254, 'adam_learning_rate': 0.0912275639213202, 'neuron_firstlayer': 221, 'neuron_secondlayer': 83, 'neuron_thirdlayer': 65}. Best is trial#15 with value: 1433.9736328125.\n",
            "[I 2020-07-09 07:04:14,906] Finished trial#28 with value: 1436.115966796875 with parameters: {'x': 73.16152152470153, 'adam_learning_rate': 0.00779801518558417, 'neuron_firstlayer': 255, 'neuron_secondlayer': 88, 'neuron_thirdlayer': 74}. Best is trial#15 with value: 1433.9736328125.\n",
            "[I 2020-07-09 07:04:20,132] Finished trial#29 with value: 1488.4288330078125 with parameters: {'x': 49.98209645190741, 'adam_learning_rate': 0.028346642414451974, 'neuron_firstlayer': 403, 'neuron_secondlayer': 65, 'neuron_thirdlayer': 53}. Best is trial#15 with value: 1433.9736328125.\n",
            "[I 2020-07-09 07:04:25,110] Finished trial#30 with value: 1431.7392578125 with parameters: {'x': 59.96295870880769, 'adam_learning_rate': 0.01015415371306051, 'neuron_firstlayer': 323, 'neuron_secondlayer': 60, 'neuron_thirdlayer': 74}. Best is trial#30 with value: 1431.7392578125.\n",
            "[I 2020-07-09 07:04:30,207] Finished trial#31 with value: 1438.327392578125 with parameters: {'x': 60.47568767694288, 'adam_learning_rate': 0.00940016166806932, 'neuron_firstlayer': 317, 'neuron_secondlayer': 60, 'neuron_thirdlayer': 76}. Best is trial#30 with value: 1431.7392578125.\n",
            "[I 2020-07-09 07:04:35,103] Finished trial#32 with value: 1454.086669921875 with parameters: {'x': 65.14002009612115, 'adam_learning_rate': 0.036994281016616795, 'neuron_firstlayer': 357, 'neuron_secondlayer': 54, 'neuron_thirdlayer': 86}. Best is trial#30 with value: 1431.7392578125.\n",
            "[I 2020-07-09 07:04:40,070] Finished trial#33 with value: 1452.5950927734375 with parameters: {'x': 42.42785969168069, 'adam_learning_rate': 0.015321054094521714, 'neuron_firstlayer': 272, 'neuron_secondlayer': 66, 'neuron_thirdlayer': 71}. Best is trial#30 with value: 1431.7392578125.\n",
            "[I 2020-07-09 07:04:45,177] Finished trial#34 with value: 1446.752685546875 with parameters: {'x': 73.46621420344445, 'adam_learning_rate': 0.004599170626634006, 'neuron_firstlayer': 378, 'neuron_secondlayer': 61, 'neuron_thirdlayer': 75}. Best is trial#30 with value: 1431.7392578125.\n",
            "[I 2020-07-09 07:04:50,181] Finished trial#35 with value: 1470.7637939453125 with parameters: {'x': 55.48840624057374, 'adam_learning_rate': 0.0008419722274610169, 'neuron_firstlayer': 249, 'neuron_secondlayer': 74, 'neuron_thirdlayer': 57}. Best is trial#30 with value: 1431.7392578125.\n",
            "[I 2020-07-09 07:04:55,176] Finished trial#36 with value: 1459.478759765625 with parameters: {'x': 10.8532254516171, 'adam_learning_rate': 0.0073191083494290885, 'neuron_firstlayer': 321, 'neuron_secondlayer': 50, 'neuron_thirdlayer': 80}. Best is trial#30 with value: 1431.7392578125.\n",
            "[I 2020-07-09 07:05:00,284] Finished trial#37 with value: 1450.331298828125 with parameters: {'x': 83.57933906314219, 'adam_learning_rate': 8.580510060551323e-05, 'neuron_firstlayer': 289, 'neuron_secondlayer': 71, 'neuron_thirdlayer': 71}. Best is trial#30 with value: 1431.7392578125.\n",
            "[I 2020-07-09 07:05:05,484] Finished trial#38 with value: 1484.4803466796875 with parameters: {'x': 70.32387204783826, 'adam_learning_rate': 0.001886472625087206, 'neuron_firstlayer': 445, 'neuron_secondlayer': 55, 'neuron_thirdlayer': 66}. Best is trial#30 with value: 1431.7392578125.\n",
            "[I 2020-07-09 07:05:10,343] Finished trial#39 with value: 1462.4329833984375 with parameters: {'x': 84.93836353993522, 'adam_learning_rate': 0.050327174963831926, 'neuron_firstlayer': 225, 'neuron_secondlayer': 60, 'neuron_thirdlayer': 40}. Best is trial#30 with value: 1431.7392578125.\n",
            "[I 2020-07-09 07:05:15,060] Finished trial#40 with value: 1443.4442138671875 with parameters: {'x': 57.65623469451076, 'adam_learning_rate': 0.002968610867521146, 'neuron_firstlayer': 107, 'neuron_secondlayer': 96, 'neuron_thirdlayer': 59}. Best is trial#30 with value: 1431.7392578125.\n",
            "[I 2020-07-09 07:05:20,228] Finished trial#41 with value: 1439.1810302734375 with parameters: {'x': 63.35580215211283, 'adam_learning_rate': 0.009291521281816676, 'neuron_firstlayer': 317, 'neuron_secondlayer': 59, 'neuron_thirdlayer': 76}. Best is trial#30 with value: 1431.7392578125.\n",
            "[I 2020-07-09 07:05:25,521] Finished trial#42 with value: 1430.958984375 with parameters: {'x': 50.41115898801168, 'adam_learning_rate': 0.019474344303906443, 'neuron_firstlayer': 303, 'neuron_secondlayer': 62, 'neuron_thirdlayer': 77}. Best is trial#42 with value: 1430.958984375.\n",
            "[I 2020-07-09 07:05:30,815] Finished trial#43 with value: 1429.528076171875 with parameters: {'x': 37.747698943930835, 'adam_learning_rate': 0.021492647141504957, 'neuron_firstlayer': 261, 'neuron_secondlayer': 87, 'neuron_thirdlayer': 82}. Best is trial#43 with value: 1429.528076171875.\n",
            "[I 2020-07-09 07:05:35,853] Finished trial#44 with value: 1482.270263671875 with parameters: {'x': 35.67170130243735, 'adam_learning_rate': 0.020060028366194627, 'neuron_firstlayer': 261, 'neuron_secondlayer': 88, 'neuron_thirdlayer': 84}. Best is trial#43 with value: 1429.528076171875.\n",
            "[I 2020-07-09 07:05:40,950] Finished trial#45 with value: 1451.0364990234375 with parameters: {'x': 27.2574917711621, 'adam_learning_rate': 0.04529604712859178, 'neuron_firstlayer': 299, 'neuron_secondlayer': 85, 'neuron_thirdlayer': 82}. Best is trial#43 with value: 1429.528076171875.\n"
          ],
          "name": "stderr"
        }
      ]
    },
    {
      "cell_type": "code",
      "metadata": {
        "id": "ad_4NoV5TZ6H",
        "colab_type": "code",
        "colab": {}
      },
      "source": [
        ""
      ],
      "execution_count": null,
      "outputs": []
    }
  ]
}