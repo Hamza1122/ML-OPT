{
  "nbformat": 4,
  "nbformat_minor": 0,
  "metadata": {
    "colab": {
      "name": "Untitled93.ipynb",
      "provenance": [],
      "include_colab_link": true
    },
    "kernelspec": {
      "name": "python3",
      "display_name": "Python 3"
    }
  },
  "cells": [
    {
      "cell_type": "markdown",
      "metadata": {
        "id": "view-in-github",
        "colab_type": "text"
      },
      "source": [
        "<a href=\"https://colab.research.google.com/github/Hamza1122/ML-OPT/blob/master/Untitled93.ipynb\" target=\"_parent\"><img src=\"https://colab.research.google.com/assets/colab-badge.svg\" alt=\"Open In Colab\"/></a>"
      ]
    },
    {
      "cell_type": "code",
      "metadata": {
        "id": "y3JCiHHn_dRP",
        "colab_type": "code",
        "colab": {
          "base_uri": "https://localhost:8080/",
          "height": 1000
        },
        "outputId": "b49e295f-6496-457c-a011-54a47d2ac650"
      },
      "source": [
        "!pip install optuna\n",
        "import pkg_resources\n",
        "import tensorflow as tf\n",
        "from tensorflow.keras.datasets import mnist\n",
        "import optuna\n"
      ],
      "execution_count": 1,
      "outputs": [
        {
          "output_type": "stream",
          "text": [
            "Collecting optuna\n",
            "\u001b[?25l  Downloading https://files.pythonhosted.org/packages/33/32/266d4afd269e3ecd7fcc595937c1733f65eae6c09c3caea74c0de0b88d78/optuna-1.5.0.tar.gz (200kB)\n",
            "\u001b[K     |████████████████████████████████| 204kB 2.4MB/s \n",
            "\u001b[?25hCollecting alembic\n",
            "\u001b[?25l  Downloading https://files.pythonhosted.org/packages/60/1e/cabc75a189de0fbb2841d0975243e59bde8b7822bacbb95008ac6fe9ad47/alembic-1.4.2.tar.gz (1.1MB)\n",
            "\u001b[K     |████████████████████████████████| 1.1MB 8.1MB/s \n",
            "\u001b[?25h  Installing build dependencies ... \u001b[?25l\u001b[?25hdone\n",
            "  Getting requirements to build wheel ... \u001b[?25l\u001b[?25hdone\n",
            "    Preparing wheel metadata ... \u001b[?25l\u001b[?25hdone\n",
            "Collecting cliff\n",
            "\u001b[?25l  Downloading https://files.pythonhosted.org/packages/52/59/4db149d8962dc29a37c8bc08cd79185935527af9a27259a2d80cac707212/cliff-3.3.0-py3-none-any.whl (81kB)\n",
            "\u001b[K     |████████████████████████████████| 81kB 6.9MB/s \n",
            "\u001b[?25hCollecting cmaes>=0.5.0\n",
            "  Downloading https://files.pythonhosted.org/packages/0e/7f/ebba8a7950487c760c245168f7ba318b35bf0cac9c0eba30b9fb50150a20/cmaes-0.5.1-py3-none-any.whl\n",
            "Collecting colorlog\n",
            "  Downloading https://files.pythonhosted.org/packages/00/0d/22c73c2eccb21dd3498df7d22c0b1d4a30f5a5fb3feb64e1ce06bc247747/colorlog-4.1.0-py2.py3-none-any.whl\n",
            "Requirement already satisfied: joblib in /usr/local/lib/python3.6/dist-packages (from optuna) (0.15.1)\n",
            "Requirement already satisfied: numpy in /usr/local/lib/python3.6/dist-packages (from optuna) (1.18.5)\n",
            "Requirement already satisfied: scipy!=1.4.0 in /usr/local/lib/python3.6/dist-packages (from optuna) (1.4.1)\n",
            "Requirement already satisfied: sqlalchemy>=1.1.0 in /usr/local/lib/python3.6/dist-packages (from optuna) (1.3.17)\n",
            "Requirement already satisfied: tqdm in /usr/local/lib/python3.6/dist-packages (from optuna) (4.41.1)\n",
            "Requirement already satisfied: python-dateutil in /usr/local/lib/python3.6/dist-packages (from alembic->optuna) (2.8.1)\n",
            "Collecting Mako\n",
            "\u001b[?25l  Downloading https://files.pythonhosted.org/packages/a6/37/0e706200d22172eb8fa17d68a7ae22dec7631a0a92266634fb518a88a5b2/Mako-1.1.3-py2.py3-none-any.whl (75kB)\n",
            "\u001b[K     |████████████████████████████████| 81kB 8.2MB/s \n",
            "\u001b[?25hCollecting python-editor>=0.3\n",
            "  Downloading https://files.pythonhosted.org/packages/c6/d3/201fc3abe391bbae6606e6f1d598c15d367033332bd54352b12f35513717/python_editor-1.0.4-py3-none-any.whl\n",
            "Collecting pbr!=2.1.0,>=2.0.0\n",
            "\u001b[?25l  Downloading https://files.pythonhosted.org/packages/96/ba/aa953a11ec014b23df057ecdbc922fdb40ca8463466b1193f3367d2711a6/pbr-5.4.5-py2.py3-none-any.whl (110kB)\n",
            "\u001b[K     |████████████████████████████████| 112kB 17.1MB/s \n",
            "\u001b[?25hRequirement already satisfied: pyparsing>=2.1.0 in /usr/local/lib/python3.6/dist-packages (from cliff->optuna) (2.4.7)\n",
            "Collecting stevedore>=1.20.0\n",
            "  Downloading https://files.pythonhosted.org/packages/45/62/aa4c77e0f0899b7697445d8126fd099473452488d70f877426812c2ce982/stevedore-2.0.1-py3-none-any.whl\n",
            "Requirement already satisfied: PrettyTable<0.8,>=0.7.2 in /usr/local/lib/python3.6/dist-packages (from cliff->optuna) (0.7.2)\n",
            "Requirement already satisfied: PyYAML>=3.12 in /usr/local/lib/python3.6/dist-packages (from cliff->optuna) (3.13)\n",
            "Requirement already satisfied: six>=1.10.0 in /usr/local/lib/python3.6/dist-packages (from cliff->optuna) (1.12.0)\n",
            "Collecting cmd2!=0.8.3,>=0.8.0\n",
            "\u001b[?25l  Downloading https://files.pythonhosted.org/packages/1b/b2/440d8d89b432b250c8f4db4368301aa7c6b49ab48a87b42e2a36f60c104d/cmd2-1.1.0-py3-none-any.whl (120kB)\n",
            "\u001b[K     |████████████████████████████████| 122kB 14.8MB/s \n",
            "\u001b[?25hRequirement already satisfied: MarkupSafe>=0.9.2 in /usr/local/lib/python3.6/dist-packages (from Mako->alembic->optuna) (1.1.1)\n",
            "Requirement already satisfied: setuptools>=34.4 in /usr/local/lib/python3.6/dist-packages (from cmd2!=0.8.3,>=0.8.0->cliff->optuna) (47.3.1)\n",
            "Collecting pyperclip>=1.6\n",
            "  Downloading https://files.pythonhosted.org/packages/f6/5b/55866e1cde0f86f5eec59dab5de8a66628cb0d53da74b8dbc15ad8dabda3/pyperclip-1.8.0.tar.gz\n",
            "Collecting colorama>=0.3.7\n",
            "  Downloading https://files.pythonhosted.org/packages/c9/dc/45cdef1b4d119eb96316b3117e6d5708a08029992b2fee2c143c7a0a5cc5/colorama-0.4.3-py2.py3-none-any.whl\n",
            "Requirement already satisfied: wcwidth>=0.1.7 in /usr/local/lib/python3.6/dist-packages (from cmd2!=0.8.3,>=0.8.0->cliff->optuna) (0.2.5)\n",
            "Requirement already satisfied: attrs>=16.3.0 in /usr/local/lib/python3.6/dist-packages (from cmd2!=0.8.3,>=0.8.0->cliff->optuna) (19.3.0)\n",
            "Building wheels for collected packages: alembic\n",
            "  Building wheel for alembic (PEP 517) ... \u001b[?25l\u001b[?25hdone\n",
            "  Created wheel for alembic: filename=alembic-1.4.2-cp36-none-any.whl size=159543 sha256=1bc04943a5d3fbcb1fed979210249f766e0caa310ddf12bf894ceb8871828407\n",
            "  Stored in directory: /root/.cache/pip/wheels/1f/04/83/76023f7a4c14688c0b5c2682a96392cfdd3ee4449eaaa287ef\n",
            "Successfully built alembic\n",
            "Building wheels for collected packages: optuna, pyperclip\n",
            "  Building wheel for optuna (setup.py) ... \u001b[?25l\u001b[?25hdone\n",
            "  Created wheel for optuna: filename=optuna-1.5.0-cp36-none-any.whl size=276145 sha256=73745733a701666139978a156d26865a3cdda1478982c9552e16fac6f5b3a2c4\n",
            "  Stored in directory: /root/.cache/pip/wheels/38/21/78/4f5529e0c757ababc4217eb9adf1886d21eb22bb1ab98c33c5\n",
            "  Building wheel for pyperclip (setup.py) ... \u001b[?25l\u001b[?25hdone\n",
            "  Created wheel for pyperclip: filename=pyperclip-1.8.0-cp36-none-any.whl size=8693 sha256=b5b93395715713e0e09801264a032dc60cea0682d0602542c6d9d877b741bfe1\n",
            "  Stored in directory: /root/.cache/pip/wheels/b2/ac/0a/b784f0afe26eaf52e88a7e15c7369090deea0354fa1c6fc689\n",
            "Successfully built optuna pyperclip\n",
            "Installing collected packages: Mako, python-editor, alembic, pbr, stevedore, pyperclip, colorama, cmd2, cliff, cmaes, colorlog, optuna\n",
            "Successfully installed Mako-1.1.3 alembic-1.4.2 cliff-3.3.0 cmaes-0.5.1 cmd2-1.1.0 colorama-0.4.3 colorlog-4.1.0 optuna-1.5.0 pbr-5.4.5 pyperclip-1.8.0 python-editor-1.0.4 stevedore-2.0.1\n"
          ],
          "name": "stdout"
        }
      ]
    },
    {
      "cell_type": "code",
      "metadata": {
        "id": "cZUlMrLIffEr",
        "colab_type": "code",
        "colab": {}
      },
      "source": [
        ""
      ],
      "execution_count": null,
      "outputs": []
    },
    {
      "cell_type": "code",
      "metadata": {
        "id": "PvGz1_JWfkan",
        "colab_type": "code",
        "colab": {}
      },
      "source": [
        ""
      ],
      "execution_count": null,
      "outputs": []
    },
    {
      "cell_type": "code",
      "metadata": {
        "id": "YYtewBxVTKYh",
        "colab_type": "code",
        "colab": {
          "base_uri": "https://localhost:8080/",
          "height": 35
        },
        "outputId": "953dd5f5-af5c-42cf-eaf3-a3773d2f348c"
      },
      "source": [
        "cd drive/My Drive"
      ],
      "execution_count": 3,
      "outputs": [
        {
          "output_type": "stream",
          "text": [
            "/content/drive/My Drive\n"
          ],
          "name": "stdout"
        }
      ]
    },
    {
      "cell_type": "code",
      "metadata": {
        "id": "Q-b_5g33flwp",
        "colab_type": "code",
        "colab": {
          "base_uri": "https://localhost:8080/",
          "height": 128
        },
        "outputId": "89e3c29d-4a2f-404e-c947-3ffb084b1dfd"
      },
      "source": [
        "from google.colab import drive\n",
        "drive.mount('/content/drive')"
      ],
      "execution_count": 2,
      "outputs": [
        {
          "output_type": "stream",
          "text": [
            "Go to this URL in a browser: https://accounts.google.com/o/oauth2/auth?client_id=947318989803-6bn6qk8qdgf4n4g3pfee6491hc0brc4i.apps.googleusercontent.com&redirect_uri=urn%3aietf%3awg%3aoauth%3a2.0%3aoob&response_type=code&scope=email%20https%3a%2f%2fwww.googleapis.com%2fauth%2fdocs.test%20https%3a%2f%2fwww.googleapis.com%2fauth%2fdrive%20https%3a%2f%2fwww.googleapis.com%2fauth%2fdrive.photos.readonly%20https%3a%2f%2fwww.googleapis.com%2fauth%2fpeopleapi.readonly\n",
            "\n",
            "Enter your authorization code:\n",
            "··········\n",
            "Mounted at /content/drive\n"
          ],
          "name": "stdout"
        }
      ]
    },
    {
      "cell_type": "code",
      "metadata": {
        "id": "DIV51lDqlUdR",
        "colab_type": "code",
        "colab": {
          "base_uri": "https://localhost:8080/",
          "height": 235
        },
        "outputId": "7fd62316-32db-400d-a416-727f89849afe"
      },
      "source": [
        "\n",
        "import pandas as pd\n",
        "df=pd.read_csv('A054392_r17.csv')\n",
        "df.head(100)\n",
        "print(df.isnull().sum())"
      ],
      "execution_count": 11,
      "outputs": [
        {
          "output_type": "stream",
          "text": [
            "delta_t     0\n",
            "A10_1_20    0\n",
            "A11_1_6     0\n",
            "A12_1_2     0\n",
            "A13_1_4     0\n",
            "           ..\n",
            "sp_col_c    0\n",
            "sp_lat_c    0\n",
            "sp_lon_c    0\n",
            "sp_ped_c    0\n",
            "tt          0\n",
            "Length: 344, dtype: int64\n"
          ],
          "name": "stdout"
        }
      ]
    },
    {
      "cell_type": "code",
      "metadata": {
        "id": "ot-xuFCsoiTt",
        "colab_type": "code",
        "colab": {}
      },
      "source": [
        "body_axis_velocities=df[['TAS','ALPHA','BETA']]\n",
        "body_axis_rates=df[['P_Hny','Q_Hny','R_Hny']]\n",
        "body_axis_attitudes=df[['Theta_Hny','Phi_Hny','Psi_Hny']]\n",
        "body_axis_accelerations=df[['AX_Hny','AY_Hny','AZ_Hny']]\n",
        "\n",
        "input_vector=df[['sp_lon_c','sp_lat_c','sp_ped_c','sp_col_c','RotorRPM']]\n"
      ],
      "execution_count": 12,
      "outputs": []
    },
    {
      "cell_type": "code",
      "metadata": {
        "id": "36FquqNPpPyY",
        "colab_type": "code",
        "colab": {
          "base_uri": "https://localhost:8080/",
          "height": 407
        },
        "outputId": "0d082a69-277a-4dee-84de-745ed58d074b"
      },
      "source": [
        "df=body_axis_velocities.add(body_axis_rates, fill_value=0)\n",
        "df1=body_axis_attitudes.add(body_axis_accelerations, fill_value=0)\n",
        "output=df1.add(df,fill_value=0)\n",
        "output"
      ],
      "execution_count": 13,
      "outputs": [
        {
          "output_type": "execute_result",
          "data": {
            "text/html": [
              "<div>\n",
              "<style scoped>\n",
              "    .dataframe tbody tr th:only-of-type {\n",
              "        vertical-align: middle;\n",
              "    }\n",
              "\n",
              "    .dataframe tbody tr th {\n",
              "        vertical-align: top;\n",
              "    }\n",
              "\n",
              "    .dataframe thead th {\n",
              "        text-align: right;\n",
              "    }\n",
              "</style>\n",
              "<table border=\"1\" class=\"dataframe\">\n",
              "  <thead>\n",
              "    <tr style=\"text-align: right;\">\n",
              "      <th></th>\n",
              "      <th>ALPHA</th>\n",
              "      <th>AX_Hny</th>\n",
              "      <th>AY_Hny</th>\n",
              "      <th>AZ_Hny</th>\n",
              "      <th>BETA</th>\n",
              "      <th>P_Hny</th>\n",
              "      <th>Phi_Hny</th>\n",
              "      <th>Psi_Hny</th>\n",
              "      <th>Q_Hny</th>\n",
              "      <th>R_Hny</th>\n",
              "      <th>TAS</th>\n",
              "      <th>Theta_Hny</th>\n",
              "    </tr>\n",
              "  </thead>\n",
              "  <tbody>\n",
              "    <tr>\n",
              "      <th>0</th>\n",
              "      <td>-5.120883</td>\n",
              "      <td>3.014990</td>\n",
              "      <td>1.056759</td>\n",
              "      <td>-33.616711</td>\n",
              "      <td>-0.338440</td>\n",
              "      <td>0.747904</td>\n",
              "      <td>0.900026</td>\n",
              "      <td>173.679840</td>\n",
              "      <td>-0.422733</td>\n",
              "      <td>-0.582445</td>\n",
              "      <td>36.830688</td>\n",
              "      <td>6.284996</td>\n",
              "    </tr>\n",
              "    <tr>\n",
              "      <th>1</th>\n",
              "      <td>-5.158884</td>\n",
              "      <td>3.069830</td>\n",
              "      <td>1.469120</td>\n",
              "      <td>-31.048903</td>\n",
              "      <td>-0.338440</td>\n",
              "      <td>0.634371</td>\n",
              "      <td>0.905016</td>\n",
              "      <td>173.673859</td>\n",
              "      <td>-0.322165</td>\n",
              "      <td>-0.572638</td>\n",
              "      <td>36.830688</td>\n",
              "      <td>6.281233</td>\n",
              "    </tr>\n",
              "    <tr>\n",
              "      <th>2</th>\n",
              "      <td>-5.120883</td>\n",
              "      <td>3.468377</td>\n",
              "      <td>-0.488360</td>\n",
              "      <td>-30.861061</td>\n",
              "      <td>-0.372078</td>\n",
              "      <td>0.789833</td>\n",
              "      <td>0.908495</td>\n",
              "      <td>173.670364</td>\n",
              "      <td>-0.399412</td>\n",
              "      <td>-0.496004</td>\n",
              "      <td>36.830688</td>\n",
              "      <td>6.278815</td>\n",
              "    </tr>\n",
              "    <tr>\n",
              "      <th>3</th>\n",
              "      <td>-5.120883</td>\n",
              "      <td>1.849214</td>\n",
              "      <td>-0.785813</td>\n",
              "      <td>-31.183453</td>\n",
              "      <td>-0.372078</td>\n",
              "      <td>1.097247</td>\n",
              "      <td>0.917610</td>\n",
              "      <td>173.665375</td>\n",
              "      <td>-0.669670</td>\n",
              "      <td>-0.462326</td>\n",
              "      <td>36.319710</td>\n",
              "      <td>6.272985</td>\n",
              "    </tr>\n",
              "    <tr>\n",
              "      <th>4</th>\n",
              "      <td>-5.120883</td>\n",
              "      <td>2.868605</td>\n",
              "      <td>-0.507335</td>\n",
              "      <td>-30.663681</td>\n",
              "      <td>-0.405719</td>\n",
              "      <td>0.768346</td>\n",
              "      <td>0.923212</td>\n",
              "      <td>173.662323</td>\n",
              "      <td>-0.637635</td>\n",
              "      <td>-0.442487</td>\n",
              "      <td>36.319710</td>\n",
              "      <td>6.268694</td>\n",
              "    </tr>\n",
              "    <tr>\n",
              "      <th>...</th>\n",
              "      <td>...</td>\n",
              "      <td>...</td>\n",
              "      <td>...</td>\n",
              "      <td>...</td>\n",
              "      <td>...</td>\n",
              "      <td>...</td>\n",
              "      <td>...</td>\n",
              "      <td>...</td>\n",
              "      <td>...</td>\n",
              "      <td>...</td>\n",
              "      <td>...</td>\n",
              "      <td>...</td>\n",
              "    </tr>\n",
              "    <tr>\n",
              "      <th>22551</th>\n",
              "      <td>2.516758</td>\n",
              "      <td>-0.558027</td>\n",
              "      <td>-2.937015</td>\n",
              "      <td>-27.824139</td>\n",
              "      <td>5.514696</td>\n",
              "      <td>0.466876</td>\n",
              "      <td>0.439490</td>\n",
              "      <td>-147.027237</td>\n",
              "      <td>0.976198</td>\n",
              "      <td>-1.066495</td>\n",
              "      <td>42.269234</td>\n",
              "      <td>5.061101</td>\n",
              "    </tr>\n",
              "    <tr>\n",
              "      <th>22552</th>\n",
              "      <td>2.516758</td>\n",
              "      <td>-0.887987</td>\n",
              "      <td>-2.529094</td>\n",
              "      <td>-33.921913</td>\n",
              "      <td>5.548336</td>\n",
              "      <td>0.360222</td>\n",
              "      <td>0.442218</td>\n",
              "      <td>-147.034042</td>\n",
              "      <td>0.609229</td>\n",
              "      <td>-1.027786</td>\n",
              "      <td>42.269234</td>\n",
              "      <td>5.066177</td>\n",
              "    </tr>\n",
              "    <tr>\n",
              "      <th>22553</th>\n",
              "      <td>2.402763</td>\n",
              "      <td>3.388960</td>\n",
              "      <td>-1.461303</td>\n",
              "      <td>-39.393398</td>\n",
              "      <td>5.581975</td>\n",
              "      <td>0.636640</td>\n",
              "      <td>0.444827</td>\n",
              "      <td>-147.041306</td>\n",
              "      <td>0.549528</td>\n",
              "      <td>-1.131543</td>\n",
              "      <td>42.269234</td>\n",
              "      <td>5.069346</td>\n",
              "    </tr>\n",
              "    <tr>\n",
              "      <th>22554</th>\n",
              "      <td>2.326769</td>\n",
              "      <td>3.090870</td>\n",
              "      <td>-1.322871</td>\n",
              "      <td>-36.611217</td>\n",
              "      <td>5.581975</td>\n",
              "      <td>0.808830</td>\n",
              "      <td>0.448946</td>\n",
              "      <td>-147.048645</td>\n",
              "      <td>0.654048</td>\n",
              "      <td>-1.082893</td>\n",
              "      <td>43.668594</td>\n",
              "      <td>5.073189</td>\n",
              "    </tr>\n",
              "    <tr>\n",
              "      <th>22555</th>\n",
              "      <td>2.288772</td>\n",
              "      <td>5.040869</td>\n",
              "      <td>1.919849</td>\n",
              "      <td>-27.411064</td>\n",
              "      <td>5.548336</td>\n",
              "      <td>0.490880</td>\n",
              "      <td>0.454303</td>\n",
              "      <td>-147.059433</td>\n",
              "      <td>1.036615</td>\n",
              "      <td>-1.111971</td>\n",
              "      <td>43.665073</td>\n",
              "      <td>5.081440</td>\n",
              "    </tr>\n",
              "  </tbody>\n",
              "</table>\n",
              "<p>22556 rows × 12 columns</p>\n",
              "</div>"
            ],
            "text/plain": [
              "          ALPHA    AX_Hny    AY_Hny  ...     R_Hny        TAS  Theta_Hny\n",
              "0     -5.120883  3.014990  1.056759  ... -0.582445  36.830688   6.284996\n",
              "1     -5.158884  3.069830  1.469120  ... -0.572638  36.830688   6.281233\n",
              "2     -5.120883  3.468377 -0.488360  ... -0.496004  36.830688   6.278815\n",
              "3     -5.120883  1.849214 -0.785813  ... -0.462326  36.319710   6.272985\n",
              "4     -5.120883  2.868605 -0.507335  ... -0.442487  36.319710   6.268694\n",
              "...         ...       ...       ...  ...       ...        ...        ...\n",
              "22551  2.516758 -0.558027 -2.937015  ... -1.066495  42.269234   5.061101\n",
              "22552  2.516758 -0.887987 -2.529094  ... -1.027786  42.269234   5.066177\n",
              "22553  2.402763  3.388960 -1.461303  ... -1.131543  42.269234   5.069346\n",
              "22554  2.326769  3.090870 -1.322871  ... -1.082893  43.668594   5.073189\n",
              "22555  2.288772  5.040869  1.919849  ... -1.111971  43.665073   5.081440\n",
              "\n",
              "[22556 rows x 12 columns]"
            ]
          },
          "metadata": {
            "tags": []
          },
          "execution_count": 13
        }
      ]
    },
    {
      "cell_type": "code",
      "metadata": {
        "id": "TH1jnUeNp3wR",
        "colab_type": "code",
        "colab": {
          "base_uri": "https://localhost:8080/",
          "height": 145
        },
        "outputId": "dc9d1815-fd5b-42a1-b545-3f3b8ae08d63"
      },
      "source": [
        "from sklearn.model_selection import train_test_split\n",
        "from sklearn.preprocessing import StandardScaler\n",
        "scaler = StandardScaler()\n",
        "X=input_vector\n",
        "X=scaler.fit_transform(X)\n",
        "\n",
        "\n",
        "Y=output\n",
        "#X=df1.drop(['Vpvx'],axis=1)\n",
        "\n",
        "X.shape \n",
        "print(X)"
      ],
      "execution_count": 16,
      "outputs": [
        {
          "output_type": "stream",
          "text": [
            "[[-0.34322741  0.10997427 -0.60713144 -0.32161679  0.25076932]\n",
            " [-0.31988913  0.10997427 -0.62546493 -0.32161679  0.25076932]\n",
            " [-0.31988913  0.10997427 -0.62546493 -0.32161679  0.08266806]\n",
            " ...\n",
            " [ 0.21688056  0.05804363 -1.04651554 -1.89821977  0.5149097 ]\n",
            " [ 0.19354395  0.05804363 -1.04651554 -1.83987967  0.5149097 ]\n",
            " [ 0.19354395  0.05804363 -1.06479614 -1.83987967  0.34682718]]\n"
          ],
          "name": "stdout"
        }
      ]
    },
    {
      "cell_type": "code",
      "metadata": {
        "id": "4wNa8fBSw_pZ",
        "colab_type": "code",
        "colab": {}
      },
      "source": [
        "x_train, x_valid, y_train, y_valid = train_test_split(X, Y, test_size=0.33, random_state=42)"
      ],
      "execution_count": 17,
      "outputs": []
    },
    {
      "cell_type": "code",
      "metadata": {
        "id": "omRwEgF3_iki",
        "colab_type": "code",
        "colab": {}
      },
      "source": [
        "if pkg_resources.parse_version(tf.__version__) < pkg_resources.parse_version(\"2.0.0\"):\n",
        "    raise RuntimeError(\"tensorflow>=2.0.0 is required for this example.\")"
      ],
      "execution_count": 18,
      "outputs": []
    },
    {
      "cell_type": "code",
      "metadata": {
        "id": "ThBaIR3D_-UJ",
        "colab_type": "code",
        "colab": {}
      },
      "source": [
        "N_TRAIN_EXAMPLES = 15000\n",
        "N_VALID_EXAMPLES = 7566\n",
        "BATCHSIZE = 128\n",
        "CLASSES = 1\n",
        "EPOCHS = 1\n"
      ],
      "execution_count": 19,
      "outputs": []
    },
    {
      "cell_type": "code",
      "metadata": {
        "id": "-BoGUXC7y5Ey",
        "colab_type": "code",
        "colab": {
          "base_uri": "https://localhost:8080/",
          "height": 128
        },
        "outputId": "22d3efb8-0975-42f4-a68d-3f0e2b184f28"
      },
      "source": [
        "import optuna\n",
        "from sklearn.model_selection import train_test_split\n",
        "from sklearn.metrics import mean_squared_error\n",
        "from math import sqrt\n",
        "\n",
        "# Keras specific\n",
        "import keras\n",
        "from keras.models import Sequential\n",
        "from keras.layers import Dense\n",
        "from keras.utils import to_categorical \n",
        "\n",
        "def objective(trial):\n",
        "    adam_learning_rate=trial.suggest_loguniform(\"adam_learning_rate\", 1e-5, 1e-1)\n",
        "    opt = keras.optimizers.Adam(adam_learning_rate)\n",
        "    hidden1 = trial.suggest_int(\"neuron_firstlayer\",100,500)\n",
        "    hidden2 = trial.suggest_int(\"neuron_secondlayer\",50,100)\n",
        "    hidden3 = trial.suggest_int(\"neuron_thirdlayer\",30,90)\n",
        "    \n",
        "    model = Sequential()\n",
        "    model.add(Dense(hidden1, activation='relu', input_dim=5))\n",
        "    model.add(Dense(hidden2, activation='relu'))  \n",
        "    model.add(Dense(hidden3, activation='relu'))\n",
        "    model.add(Dense(12, activation='linear'))\n",
        "\n",
        "# Compile the model\n",
        "    model.compile(optimizer=opt, \n",
        "              loss='mse', \n",
        "              metrics=['mse'])\n",
        "    model.fit(\n",
        "        x_train,\n",
        "        y_train,\n",
        "        validation_data=(x_valid, y_valid),\n",
        "        shuffle=True,\n",
        "        batch_size=12,\n",
        "        epochs=10,\n",
        "        verbose=False,\n",
        "    )\n",
        "    score = model.evaluate(x_valid, y_valid, verbose=0)\n",
        "    return score[1]\n",
        "\n",
        "study = optuna.create_study()\n",
        "study.optimize(objective, n_trials=10)\n",
        "\n",
        "study.best_params  # E.g. {'x': 2.002108042}\n"
      ],
      "execution_count": null,
      "outputs": [
        {
          "output_type": "stream",
          "text": [
            "[I 2020-07-10 16:19:39,292] Finished trial#0 with value: 373.1001892089844 with parameters: {'adam_learning_rate': 0.015624542755132684, 'neuron_firstlayer': 481, 'neuron_secondlayer': 76, 'neuron_thirdlayer': 48}. Best is trial#0 with value: 373.1001892089844.\n",
            "[I 2020-07-10 16:20:01,552] Finished trial#1 with value: 1031.1201171875 with parameters: {'adam_learning_rate': 5.3723046882410836e-05, 'neuron_firstlayer': 472, 'neuron_secondlayer': 73, 'neuron_thirdlayer': 85}. Best is trial#0 with value: 373.1001892089844.\n",
            "[I 2020-07-10 16:20:21,209] Finished trial#2 with value: 389.6302795410156 with parameters: {'adam_learning_rate': 0.027625173423590364, 'neuron_firstlayer': 137, 'neuron_secondlayer': 93, 'neuron_thirdlayer': 66}. Best is trial#0 with value: 373.1001892089844.\n",
            "[I 2020-07-10 16:20:44,552] Finished trial#3 with value: 703.984375 with parameters: {'adam_learning_rate': 0.00015560422346484022, 'neuron_firstlayer': 471, 'neuron_secondlayer': 94, 'neuron_thirdlayer': 53}. Best is trial#0 with value: 373.1001892089844.\n",
            "[I 2020-07-10 16:21:05,211] Finished trial#4 with value: 836.2296752929688 with parameters: {'adam_learning_rate': 0.00011030193651698001, 'neuron_firstlayer': 379, 'neuron_secondlayer': 54, 'neuron_thirdlayer': 50}. Best is trial#0 with value: 373.1001892089844.\n"
          ],
          "name": "stderr"
        }
      ]
    },
    {
      "cell_type": "code",
      "metadata": {
        "id": "ad_4NoV5TZ6H",
        "colab_type": "code",
        "colab": {}
      },
      "source": [
        ""
      ],
      "execution_count": null,
      "outputs": []
    }
  ]
}